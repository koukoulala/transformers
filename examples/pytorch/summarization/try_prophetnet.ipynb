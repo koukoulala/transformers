{
 "cells": [
  {
   "cell_type": "code",
   "execution_count": 1,
   "id": "938ba018",
   "metadata": {},
   "outputs": [],
   "source": [
    "from transformers import XLMProphetNetTokenizer, XLMProphetNetForConditionalGeneration, XLMProphetNetConfig"
   ]
  },
  {
   "cell_type": "code",
   "execution_count": 4,
   "id": "35715658",
   "metadata": {},
   "outputs": [],
   "source": [
    "model = XLMProphetNetForConditionalGeneration.from_pretrained('microsoft/xprophetnet-large-wiki100-cased-xglue-ntg', cache_dir=\"/home/work/xiaoyu/ckpt/xprophtnet_ntg\")\n",
    "tokenizer = XLMProphetNetTokenizer.from_pretrained('microsoft/xprophetnet-large-wiki100-cased-xglue-ntg', cache_dir=\"/home/work/xiaoyu/ckpt/xprophtnet_ntg\")\n"
   ]
  },
  {
   "cell_type": "code",
   "execution_count": 6,
   "id": "e2204db9",
   "metadata": {},
   "outputs": [],
   "source": [
    "EN_SENTENCE = \"Microsoft Corporation intends to officially end free support for the Windows 7 operating system after January 14, 2020, according to the official portal of the organization. From that day, users of this system will not be able to receive security updates, which could make their computers vulnerable to cyber attacks.\"\n",
    "RU_SENTENCE = \"орпорация Microsoft намерена официально прекратить бесплатную поддержку операционной системы Windows 7 после 14 января 2020 года, сообщается на официальном портале организации . С указанного дня пользователи этой системы не смогут получать обновления безопасности, из-за чего их компьютеры могут стать уязвимыми к кибератакам.\"\n",
    "ZH_SENTENCE = \"根据该组织的官方门户网站，微软公司打算在2020年1月14日之后正式终止对Windows 7操作系统的免费支持。从那时起，该系统的用户将无法接收安全更新，这可能会使他们的计算机容易受到网络攻击。\"\n",
    "inputs = tokenizer([EN_SENTENCE, RU_SENTENCE, ZH_SENTENCE], padding=True, max_length=256, return_tensors='pt')\n"
   ]
  },
  {
   "cell_type": "code",
   "execution_count": 11,
   "id": "bedacdf2",
   "metadata": {},
   "outputs": [],
   "source": [
    "fr_sent = \"Le procès d'un Turc de 17 ans qui avait agressé en janvier 2016 à la machette un enseignant d'une école juive de Marseille portant une kippa, s'ouvre mercredi devant le tribunal pour enfants (TPE) de Paris. Le jeune, qui avait 15 ans au moment des faits, et s'était revendiqué de l'Etat islamique, encourt jusqu'à vingt ans de réclusion criminelle, apprend-on de source judiciaire. Il est poursuivi pour entreprise terroriste individuelle et tentative d'assassinat en relation avec une entreprise terroriste, avec la circonstance aggravante de l'antisémitisme, précise-t-on. Il s'agit du premier procès terroriste criminel devant le TPE de Paris, qui n'a jusque-là été amené à juger que des affaires djihadistes délictuelles. D'après Fabrice Labi, avocat de la victime, l'enseignant arrive à ce procès\""
   ]
  },
  {
   "cell_type": "code",
   "execution_count": 12,
   "id": "aef85bcb",
   "metadata": {},
   "outputs": [],
   "source": [
    "inputs = tokenizer([fr_sent], padding=True, max_length=256, return_tensors='pt')"
   ]
  },
  {
   "cell_type": "code",
   "execution_count": 13,
   "id": "45b03ca7",
   "metadata": {},
   "outputs": [],
   "source": [
    "summary_ids = model.generate(inputs['input_ids'], num_beams=4, max_length=100, early_stopping=True)\n"
   ]
  },
  {
   "cell_type": "code",
   "execution_count": 14,
   "id": "b329fabc",
   "metadata": {},
   "outputs": [
    {
     "name": "stdout",
     "output_type": "stream",
     "text": [
      "tensor([[     2,    647,  10413,  17158,    115,     36,    320,   4263,    249,\n",
      "             19,    740,   7221,     17,  60891, 117111,  51852,    106,    395,\n",
      "          21918,     19,   7281,      2]])\n"
     ]
    }
   ],
   "source": [
    "print(summary_ids)"
   ]
  },
  {
   "cell_type": "code",
   "execution_count": 15,
   "id": "f93576b9",
   "metadata": {},
   "outputs": [
    {
     "data": {
      "text/plain": [
       "[\"Le procès d'un Turc de 17 ans ouvre mercredi devant le TPE de Paris\"]"
      ]
     },
     "execution_count": 15,
     "metadata": {},
     "output_type": "execute_result"
    }
   ],
   "source": [
    "tokenizer.batch_decode(summary_ids, skip_special_tokens=True)"
   ]
  },
  {
   "cell_type": "code",
   "execution_count": null,
   "id": "64f3d3fa",
   "metadata": {},
   "outputs": [],
   "source": []
  }
 ],
 "metadata": {
  "kernelspec": {
   "display_name": "py3.6",
   "language": "python",
   "name": "py3.6"
  },
  "language_info": {
   "codemirror_mode": {
    "name": "ipython",
    "version": 3
   },
   "file_extension": ".py",
   "mimetype": "text/x-python",
   "name": "python",
   "nbconvert_exporter": "python",
   "pygments_lexer": "ipython3",
   "version": "3.6.13"
  }
 },
 "nbformat": 4,
 "nbformat_minor": 5
}
