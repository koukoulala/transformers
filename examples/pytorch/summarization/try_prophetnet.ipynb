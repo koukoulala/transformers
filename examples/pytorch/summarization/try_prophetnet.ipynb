{
 "cells": [
  {
   "cell_type": "code",
   "execution_count": 3,
   "id": "938ba018",
   "metadata": {},
   "outputs": [],
   "source": [
    "from transformers import XLMProphetNetTokenizer, XLMProphetNetForConditionalGeneration, XLMProphetNetConfig"
   ]
  },
  {
   "cell_type": "code",
   "execution_count": 5,
   "id": "35715658",
   "metadata": {},
   "outputs": [
    {
     "data": {
      "application/vnd.jupyter.widget-view+json": {
       "model_id": "8ffd848bb9bd4860bc6e01584d566912",
       "version_major": 2,
       "version_minor": 0
      },
      "text/plain": [
       "Downloading:   0%|          | 0.00/2.46G [00:00<?, ?B/s]"
      ]
     },
     "metadata": {},
     "output_type": "display_data"
    },
    {
     "data": {
      "application/vnd.jupyter.widget-view+json": {
       "model_id": "a408a8c356954ddeab087716cab12d38",
       "version_major": 2,
       "version_minor": 0
      },
      "text/plain": [
       "Downloading:   0%|          | 0.00/5.07M [00:00<?, ?B/s]"
      ]
     },
     "metadata": {},
     "output_type": "display_data"
    },
    {
     "data": {
      "application/vnd.jupyter.widget-view+json": {
       "model_id": "2136ba16251d4b42829c701ec8ca25f0",
       "version_major": 2,
       "version_minor": 0
      },
      "text/plain": [
       "Downloading:   0%|          | 0.00/156 [00:00<?, ?B/s]"
      ]
     },
     "metadata": {},
     "output_type": "display_data"
    },
    {
     "data": {
      "application/vnd.jupyter.widget-view+json": {
       "model_id": "09313f6683ee46a2bf2ce0d8509d4605",
       "version_major": 2,
       "version_minor": 0
      },
      "text/plain": [
       "Downloading:   0%|          | 0.00/411 [00:00<?, ?B/s]"
      ]
     },
     "metadata": {},
     "output_type": "display_data"
    }
   ],
   "source": [
    "model = XLMProphetNetForConditionalGeneration.from_pretrained('microsoft/xprophetnet-large-wiki100-cased-xglue-ntg')\n",
    "tokenizer = XLMProphetNetTokenizer.from_pretrained('microsoft/xprophetnet-large-wiki100-cased-xglue-ntg')\n"
   ]
  },
  {
   "cell_type": "code",
   "execution_count": 6,
   "id": "e2204db9",
   "metadata": {},
   "outputs": [],
   "source": [
    "EN_SENTENCE = \"Microsoft Corporation intends to officially end free support for the Windows 7 operating system after January 14, 2020, according to the official portal of the organization. From that day, users of this system will not be able to receive security updates, which could make their computers vulnerable to cyber attacks.\"\n",
    "RU_SENTENCE = \"орпорация Microsoft намерена официально прекратить бесплатную поддержку операционной системы Windows 7 после 14 января 2020 года, сообщается на официальном портале организации . С указанного дня пользователи этой системы не смогут получать обновления безопасности, из-за чего их компьютеры могут стать уязвимыми к кибератакам.\"\n",
    "ZH_SENTENCE = \"根据该组织的官方门户网站，微软公司打算在2020年1月14日之后正式终止对Windows 7操作系统的免费支持。从那时起，该系统的用户将无法接收安全更新，这可能会使他们的计算机容易受到网络攻击。\"\n",
    "inputs = tokenizer([EN_SENTENCE, RU_SENTENCE, ZH_SENTENCE], padding=True, max_length=256, return_tensors='pt')\n"
   ]
  },
  {
   "cell_type": "code",
   "execution_count": 7,
   "id": "e85d360e",
   "metadata": {},
   "outputs": [
    {
     "name": "stdout",
     "output_type": "stream",
     "text": [
      "{'input_ids': tensor([[  7255,  84840, 150672,     18,     58,  51532,    549,   3575,   4103,\n",
      "           8071,    111,     81,   3784,    372, 172863,   5437,   7114,  18993,\n",
      "            627,     15,  11086,     15,  59510,     58,     81,  51532,  11925,\n",
      "            122,     81,  53713,     16,  28101,    461,   5166,     15,  72106,\n",
      "            122,    914,   5437,   1232,    970,    197,  19059,     58,  53310,\n",
      "          48042, 114430,     15,   3140,   5820,   3260,   2374,  13920,     18,\n",
      "         166564,     58,  94228,  52886,     18,     16,      2,      0,      0,\n",
      "              0,      0,      0,      0],\n",
      "        [ 17503,  28562,   8865,   7255,  86090,     70,  75577, 157852,   1128,\n",
      "          11282,  33692,   3806, 155182, 179250,   1868,  22948,   3784,    372,\n",
      "           3749,    627,  61274,  11086,   2710,     15, 106075,   1000,     40,\n",
      "          75577,    141,  21807,    114,  13853,     17,     16,    600,  36869,\n",
      "           1281,  10273, 224401,  10768,  22948,     88, 137801, 125047,     17,\n",
      "         136593,   1125,  34922,     15,    435,     20,   1334,  21318,   1736,\n",
      "          30773,    238,   9083,  49933,     17, 221927,  23464,    729, 211974,\n",
      "           1923,  12213,     16,      2],\n",
      "        [ 80487,   4952, 132229,  26048,   6360,  23409,   9708,     15, 151971,\n",
      "           1914,  65611,    224,  49420,    481,    429,    641,   2603,    646,\n",
      "           8867,  12633, 208676,   1047,  43353,    372,  13171,  99208,  35126,\n",
      "           7510,     41,   1976, 138751,   2808,     15,   4952,  99208,  10512,\n",
      "           1737,  18000, 152972,   4799,  14382,     15,   1853,  44542,   4301,\n",
      "          28400,  69297,  18635,  15903,  10305,  82940,     41,      2,      0,\n",
      "              0,      0,      0,      0,      0,      0,      0,      0,      0,\n",
      "              0,      0,      0,      0]]), 'attention_mask': tensor([[1, 1, 1, 1, 1, 1, 1, 1, 1, 1, 1, 1, 1, 1, 1, 1, 1, 1, 1, 1, 1, 1, 1, 1,\n",
      "         1, 1, 1, 1, 1, 1, 1, 1, 1, 1, 1, 1, 1, 1, 1, 1, 1, 1, 1, 1, 1, 1, 1, 1,\n",
      "         1, 1, 1, 1, 1, 1, 1, 1, 1, 1, 1, 1, 1, 0, 0, 0, 0, 0, 0],\n",
      "        [1, 1, 1, 1, 1, 1, 1, 1, 1, 1, 1, 1, 1, 1, 1, 1, 1, 1, 1, 1, 1, 1, 1, 1,\n",
      "         1, 1, 1, 1, 1, 1, 1, 1, 1, 1, 1, 1, 1, 1, 1, 1, 1, 1, 1, 1, 1, 1, 1, 1,\n",
      "         1, 1, 1, 1, 1, 1, 1, 1, 1, 1, 1, 1, 1, 1, 1, 1, 1, 1, 1],\n",
      "        [1, 1, 1, 1, 1, 1, 1, 1, 1, 1, 1, 1, 1, 1, 1, 1, 1, 1, 1, 1, 1, 1, 1, 1,\n",
      "         1, 1, 1, 1, 1, 1, 1, 1, 1, 1, 1, 1, 1, 1, 1, 1, 1, 1, 1, 1, 1, 1, 1, 1,\n",
      "         1, 1, 1, 1, 1, 0, 0, 0, 0, 0, 0, 0, 0, 0, 0, 0, 0, 0, 0]])}\n"
     ]
    }
   ],
   "source": [
    "print(inputs)"
   ]
  },
  {
   "cell_type": "code",
   "execution_count": 8,
   "id": "45b03ca7",
   "metadata": {},
   "outputs": [
    {
     "name": "stderr",
     "output_type": "stream",
     "text": [
      "/home/work/anaconda3/envs/py3.6/lib/python3.6/site-packages/torch/_tensor.py:575: UserWarning: floor_divide is deprecated, and will be removed in a future version of pytorch. It currently rounds toward 0 (like the 'trunc' function NOT 'floor'). This results in incorrect rounding for negative values.\n",
      "To keep the current behavior, use torch.div(a, b, rounding_mode='trunc'), or for actual floor division, use torch.div(a, b, rounding_mode='floor'). (Triggered internally at  /pytorch/aten/src/ATen/native/BinaryOps.cpp:467.)\n",
      "  return torch.floor_divide(self, other)\n"
     ]
    }
   ],
   "source": [
    "summary_ids = model.generate(inputs['input_ids'], num_beams=4, max_length=100, early_stopping=True)\n"
   ]
  },
  {
   "cell_type": "code",
   "execution_count": 9,
   "id": "b329fabc",
   "metadata": {},
   "outputs": [
    {
     "name": "stdout",
     "output_type": "stream",
     "text": [
      "tensor([[     2,   7255,     58,   3575,   3784,    372,   4103,   8071,   7114,\n",
      "          18993,    627,     15,  11086,      2,      0,      0,      0,      0],\n",
      "        [     2,   7255,  86090,     70, 157852,   1128,  11282,  33692,   3806,\n",
      "         155182,   3784,    372,   3749,    627,  61274,  11086,   2710,      2],\n",
      "        [     2, 151971, 208676,   1047,  43353,    372,  13171,  99208,  35126,\n",
      "           7510,      2,      0,      0,      0,      0,      0,      0,      0]])\n"
     ]
    }
   ],
   "source": [
    "print(summary_ids)"
   ]
  },
  {
   "cell_type": "code",
   "execution_count": 10,
   "id": "f93576b9",
   "metadata": {},
   "outputs": [
    {
     "data": {
      "text/plain": [
       "['Microsoft to end Windows 7 free support after January 14, 2020',\n",
       " 'Microsoft намерена прекратить бесплатную поддержку Windows 7 после 14 января 2020 года',\n",
       " '微软终止对Windows 7操作系统的免费支持']"
      ]
     },
     "execution_count": 10,
     "metadata": {},
     "output_type": "execute_result"
    }
   ],
   "source": [
    "tokenizer.batch_decode(summary_ids, skip_special_tokens=True)"
   ]
  },
  {
   "cell_type": "code",
   "execution_count": null,
   "id": "64f3d3fa",
   "metadata": {},
   "outputs": [],
   "source": []
  }
 ],
 "metadata": {
  "kernelspec": {
   "display_name": "py3.6",
   "language": "python",
   "name": "py3.6"
  },
  "language_info": {
   "codemirror_mode": {
    "name": "ipython",
    "version": 3
   },
   "file_extension": ".py",
   "mimetype": "text/x-python",
   "name": "python",
   "nbconvert_exporter": "python",
   "pygments_lexer": "ipython3",
   "version": "3.6.13"
  }
 },
 "nbformat": 4,
 "nbformat_minor": 5
}
