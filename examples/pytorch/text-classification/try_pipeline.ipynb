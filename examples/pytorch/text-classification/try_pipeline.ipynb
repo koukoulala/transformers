{
 "cells": [
  {
   "cell_type": "code",
   "execution_count": 1,
   "id": "7d42b3b9",
   "metadata": {},
   "outputs": [
    {
     "data": {
      "application/vnd.jupyter.widget-view+json": {
       "model_id": "b36392146ea44300b9c1b773326c6d56",
       "version_major": 2,
       "version_minor": 0
      },
      "text/plain": [
       "Downloading:   0%|          | 0.00/734 [00:00<?, ?B/s]"
      ]
     },
     "metadata": {},
     "output_type": "display_data"
    },
    {
     "data": {
      "application/vnd.jupyter.widget-view+json": {
       "model_id": "48caaf7fa15f402b8a2b3a665d3113fd",
       "version_major": 2,
       "version_minor": 0
      },
      "text/plain": [
       "Downloading:   0%|          | 0.00/2.24G [00:00<?, ?B/s]"
      ]
     },
     "metadata": {},
     "output_type": "display_data"
    },
    {
     "name": "stderr",
     "output_type": "stream",
     "text": [
      "(\"Connection broken: ConnectionResetError(104, 'Connection reset by peer')\", ConnectionResetError(104, 'Connection reset by peer'))\n"
     ]
    },
    {
     "data": {
      "application/vnd.jupyter.widget-view+json": {
       "model_id": "25598ad5338841d38958634b58b8f68a",
       "version_major": 2,
       "version_minor": 0
      },
      "text/plain": [
       "Downloading:   0%|          | 0.00/2.24G [00:00<?, ?B/s]"
      ]
     },
     "metadata": {},
     "output_type": "display_data"
    },
    {
     "name": "stderr",
     "output_type": "stream",
     "text": [
      "Some weights of the model checkpoint at joeddav/xlm-roberta-large-xnli were not used when initializing XLMRobertaForSequenceClassification: ['roberta.pooler.dense.weight', 'roberta.pooler.dense.bias']\n",
      "- This IS expected if you are initializing XLMRobertaForSequenceClassification from the checkpoint of a model trained on another task or with another architecture (e.g. initializing a BertForSequenceClassification model from a BertForPreTraining model).\n",
      "- This IS NOT expected if you are initializing XLMRobertaForSequenceClassification from the checkpoint of a model that you expect to be exactly identical (initializing a BertForSequenceClassification model from a BertForSequenceClassification model).\n"
     ]
    },
    {
     "data": {
      "application/vnd.jupyter.widget-view+json": {
       "model_id": "4786c7c05df84022b03ad59447288f6c",
       "version_major": 2,
       "version_minor": 0
      },
      "text/plain": [
       "Downloading:   0%|          | 0.00/25.0 [00:00<?, ?B/s]"
      ]
     },
     "metadata": {},
     "output_type": "display_data"
    },
    {
     "data": {
      "application/vnd.jupyter.widget-view+json": {
       "model_id": "d6cfd2b0a04a4971aca850c1f5c0df39",
       "version_major": 2,
       "version_minor": 0
      },
      "text/plain": [
       "Downloading:   0%|          | 0.00/5.07M [00:00<?, ?B/s]"
      ]
     },
     "metadata": {},
     "output_type": "display_data"
    },
    {
     "data": {
      "application/vnd.jupyter.widget-view+json": {
       "model_id": "44e11cdf27b442e69e3c60a2777454e4",
       "version_major": 2,
       "version_minor": 0
      },
      "text/plain": [
       "Downloading:   0%|          | 0.00/150 [00:00<?, ?B/s]"
      ]
     },
     "metadata": {},
     "output_type": "display_data"
    }
   ],
   "source": [
    "from transformers import pipeline\n",
    "classifier = pipeline(\"zero-shot-classification\", model=\"joeddav/xlm-roberta-large-xnli\")"
   ]
  },
  {
   "cell_type": "code",
   "execution_count": 2,
   "id": "8d5202a4",
   "metadata": {},
   "outputs": [
    {
     "data": {
      "text/plain": [
       "{'sequence': 'За кого вы голосуете в 2020 году?',\n",
       " 'labels': ['politics', 'Europe', 'public health'],\n",
       " 'scores': [0.9048489928245544, 0.05722144991159439, 0.037929534912109375]}"
      ]
     },
     "execution_count": 2,
     "metadata": {},
     "output_type": "execute_result"
    }
   ],
   "source": [
    "sequence_to_classify = \"За кого вы голосуете в 2020 году?\"\n",
    "# we can specify candidate labels in Russian or any other language above:\n",
    "candidate_labels = [\"Europe\", \"public health\", \"politics\"]\n",
    "classifier(sequence_to_classify, candidate_labels)"
   ]
  },
  {
   "cell_type": "code",
   "execution_count": 28,
   "id": "2d7e474a",
   "metadata": {},
   "outputs": [],
   "source": [
    "import os\n",
    "from transformers import AutoModelForSequenceClassification, AutoTokenizer\n",
    "from datasets import load_dataset, load_metric\n",
    "from accelerate import Accelerator"
   ]
  },
  {
   "cell_type": "code",
   "execution_count": 30,
   "id": "bca981fd",
   "metadata": {},
   "outputs": [],
   "source": [
    "os.environ [\"CUDA_VISIBLE_DEVICES\"] = '0, 1'\n",
    "accelerator = Accelerator()"
   ]
  },
  {
   "cell_type": "code",
   "execution_count": 3,
   "id": "35dc3255",
   "metadata": {},
   "outputs": [],
   "source": [
    "class Args():\n",
    "    model_name_or_path = \"joeddav/xlm-roberta-large-xnli\"\n",
    "    cache_dir = \"/home/work/xiaoyu/ckpt/xlm-roberta-large-xnli\"\n",
    "    data_cache_dir = \"/home/work/xiaoyu/datasets/xnli\"\n",
    "    ignore_pad_token_for_loss = True\n",
    "    per_device_eval_batch_size = 2\n",
    "    val_max_target_length = None\n",
    "    max_target_length = 128\n",
    "    num_beams = None\n",
    "    \n",
    "args = Args()"
   ]
  },
  {
   "cell_type": "code",
   "execution_count": 4,
   "id": "05b9ca9a",
   "metadata": {},
   "outputs": [
    {
     "name": "stderr",
     "output_type": "stream",
     "text": [
      "Some weights of the model checkpoint at joeddav/xlm-roberta-large-xnli were not used when initializing XLMRobertaForSequenceClassification: ['roberta.pooler.dense.bias', 'roberta.pooler.dense.weight']\n",
      "- This IS expected if you are initializing XLMRobertaForSequenceClassification from the checkpoint of a model trained on another task or with another architecture (e.g. initializing a BertForSequenceClassification model from a BertForPreTraining model).\n",
      "- This IS NOT expected if you are initializing XLMRobertaForSequenceClassification from the checkpoint of a model that you expect to be exactly identical (initializing a BertForSequenceClassification model from a BertForSequenceClassification model).\n"
     ]
    }
   ],
   "source": [
    "\n",
    "nli_model = AutoModelForSequenceClassification.from_pretrained(args.model_name_or_path, cache_dir=args.cache_dir)\n",
    "tokenizer = AutoTokenizer.from_pretrained(args.model_name_or_path, cache_dir=args.cache_dir)"
   ]
  },
  {
   "cell_type": "code",
   "execution_count": 32,
   "id": "69a08843",
   "metadata": {},
   "outputs": [
    {
     "name": "stdout",
     "output_type": "stream",
     "text": [
      "cuda:0\n"
     ]
    }
   ],
   "source": [
    "model = accelerator.prepare(nli_model)\n",
    "print(next(model.parameters()).device) "
   ]
  },
  {
   "cell_type": "code",
   "execution_count": 33,
   "id": "362b1532",
   "metadata": {},
   "outputs": [],
   "source": [
    "sequence_to_classify = \"Handverlesene Romantische Hotels auf Mallorca. Elegant. Charmant. Einzigartig.\"\n",
    "premise = sequence_to_classify\n",
    "label = \"Ein Hochzeitsreise Hotel ist die ideale Wahl für verliebte flitternde Paare oder solche, die den zweiten gemeinsamen Frühling erleben. .\"\n",
    "hypothesis = f'This example is {label}.'"
   ]
  },
  {
   "cell_type": "code",
   "execution_count": 37,
   "id": "74eb539d",
   "metadata": {},
   "outputs": [
    {
     "name": "stdout",
     "output_type": "stream",
     "text": [
      "cuda:0\n"
     ]
    }
   ],
   "source": [
    "x = tokenizer.encode(premise, hypothesis, return_tensors='pt', truncation_strategy='only_first')\n",
    "#x = tokenizer(premise, hypothesis, return_tensors='pt', truncation_strategy='only_first')\n",
    "x = x.to(\"cuda\")\n",
    "print(x.device) \n",
    "logits = nli_model(x)[0]"
   ]
  },
  {
   "cell_type": "code",
   "execution_count": 38,
   "id": "3a3542fe",
   "metadata": {},
   "outputs": [
    {
     "name": "stdout",
     "output_type": "stream",
     "text": [
      "tensor([[-3.6847,  3.7045, -0.4683]], device='cuda:0', grad_fn=<AddmmBackward>)\n"
     ]
    }
   ],
   "source": [
    "print(logits)"
   ]
  },
  {
   "cell_type": "code",
   "execution_count": 39,
   "id": "97d7d054",
   "metadata": {},
   "outputs": [
    {
     "name": "stdout",
     "output_type": "stream",
     "text": [
      "tensor([[-3.6847, -0.4683]], device='cuda:0', grad_fn=<IndexBackward>)\n",
      "tensor([[0.0386, 0.9614]], device='cuda:0', grad_fn=<SoftmaxBackward>)\n",
      "tensor([0.9614], device='cuda:0', grad_fn=<SelectBackward>)\n"
     ]
    }
   ],
   "source": [
    "entail_contradiction_logits = logits[:,[0,2]]\n",
    "print(entail_contradiction_logits)\n",
    "probs = entail_contradiction_logits.softmax(dim=1)\n",
    "print(probs)\n",
    "prob_label_is_true = probs[:,1]\n",
    "print(prob_label_is_true)"
   ]
  },
  {
   "cell_type": "code",
   "execution_count": 43,
   "id": "c03e0ef7",
   "metadata": {},
   "outputs": [
    {
     "name": "stdout",
     "output_type": "stream",
     "text": [
      "0.9614459\n"
     ]
    }
   ],
   "source": [
    "print(prob_label_is_true.detach().cpu().numpy()[0])"
   ]
  },
  {
   "cell_type": "code",
   "execution_count": 45,
   "id": "159972bd",
   "metadata": {},
   "outputs": [
    {
     "name": "stdout",
     "output_type": "stream",
     "text": [
      "1\n"
     ]
    }
   ],
   "source": [
    "pred = logits.argmax(dim=-1).detach().cpu().numpy()[0]\n",
    "print(pred)"
   ]
  },
  {
   "cell_type": "code",
   "execution_count": null,
   "id": "d27dff34",
   "metadata": {},
   "outputs": [],
   "source": []
  }
 ],
 "metadata": {
  "kernelspec": {
   "display_name": "py3.6",
   "language": "python",
   "name": "py3.6"
  },
  "language_info": {
   "codemirror_mode": {
    "name": "ipython",
    "version": 3
   },
   "file_extension": ".py",
   "mimetype": "text/x-python",
   "name": "python",
   "nbconvert_exporter": "python",
   "pygments_lexer": "ipython3",
   "version": "3.6.13"
  }
 },
 "nbformat": 4,
 "nbformat_minor": 5
}
